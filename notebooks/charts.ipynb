{
 "cells": [
  {
   "cell_type": "markdown",
   "id": "5dc56f5c-04e5-4594-9819-b2352c5a5029",
   "metadata": {},
   "source": [
    "# Scrape the ETF chart data ([e.g.](https://www.justetf.com/en/etf-profile.html?isin=IE00B4L5Y983))"
   ]
  },
  {
   "cell_type": "code",
   "execution_count": null,
   "id": "35484770-901a-4f7e-826d-496ec6bcdec2",
   "metadata": {},
   "outputs": [],
   "source": [
    "import pandas as pd\n",
    "import seaborn as sns\n",
    "\n",
    "import justetf_scraping"
   ]
  },
  {
   "cell_type": "code",
   "execution_count": null,
   "id": "d0bac4ed-c7b0-44bd-9872-b10d601e4526",
   "metadata": {},
   "outputs": [],
   "source": [
    "pd.set_option(\"display.max_columns\", None)"
   ]
  },
  {
   "cell_type": "markdown",
   "id": "e5f40ee6-21b7-4783-bd29-b1a9467633c5",
   "metadata": {},
   "source": [
    "## Load the data"
   ]
  },
  {
   "cell_type": "markdown",
   "id": "10e14cce-3e56-4a11-983f-3d3eb89db66c",
   "metadata": {},
   "source": [
    "Load overviews for all MSCI Worls and World Emerging Markets ETFs"
   ]
  },
  {
   "cell_type": "code",
   "execution_count": null,
   "id": "ab32edbd-3947-4df7-8574-88c18389db2d",
   "metadata": {},
   "outputs": [],
   "source": [
    "msci_world_df = justetf_scraping.load_overview(\n",
    "    strategy=\"epg-longOnly\", index=\"MSCI World\"\n",
    ")\n",
    "msci_em_df = justetf_scraping.load_overview(\n",
    "    strategy=\"epg-longOnly\", index=\"MSCI Emerging Markets\"\n",
    ")"
   ]
  },
  {
   "cell_type": "markdown",
   "id": "09547e27-037b-4da1-9e2f-d61b6561ddc9",
   "metadata": {},
   "source": [
    "Slice some longest running ETFs"
   ]
  },
  {
   "cell_type": "code",
   "execution_count": null,
   "id": "fcb5ec89-669f-4aec-ab5f-715f473ba1c7",
   "metadata": {},
   "outputs": [],
   "source": [
    "df = pd.concat(\n",
    "    [\n",
    "        msci_world_df[msci_world_df[\"age_in_years\"] > 15],\n",
    "        msci_em_df[msci_em_df[\"age_in_years\"] > 15],\n",
    "    ]\n",
    ")"
   ]
  },
  {
   "cell_type": "code",
   "execution_count": null,
   "id": "60ca7322-978b-41ba-b491-c6b616de20f5",
   "metadata": {},
   "outputs": [],
   "source": [
    "df"
   ]
  },
  {
   "cell_type": "markdown",
   "id": "e7df7a3a-30eb-47ab-b897-be41828f311c",
   "metadata": {},
   "source": [
    "Load charts for the chosen ETFs"
   ]
  },
  {
   "cell_type": "code",
   "execution_count": null,
   "id": "26ae5e55-d763-4aa7-81e7-d8226639af48",
   "metadata": {},
   "outputs": [],
   "source": [
    "charts = {isin: justetf_scraping.load_chart(isin) for isin in df.index}"
   ]
  },
  {
   "cell_type": "code",
   "execution_count": null,
   "id": "afff0607-fe59-44ef-b66a-d822232a3d6c",
   "metadata": {},
   "outputs": [],
   "source": [
    "charts[list(charts)[0]]"
   ]
  },
  {
   "cell_type": "markdown",
   "id": "594a5c48-ec45-4344-ad9d-9a909832d977",
   "metadata": {},
   "source": [
    "## Visualize the Data"
   ]
  },
  {
   "cell_type": "code",
   "execution_count": null,
   "id": "86f08a54-d2f4-4736-856b-904dbb5d6a8e",
   "metadata": {},
   "outputs": [],
   "source": [
    "comparison_df = justetf_scraping.compare_charts(charts, input_value=\"quote\")\n",
    "sns.lineplot(comparison_df)"
   ]
  },
  {
   "cell_type": "code",
   "execution_count": null,
   "id": "ae218498-0421-41fd-8e40-1422c9028f15",
   "metadata": {},
   "outputs": [],
   "source": [
    "comparison_df = justetf_scraping.compare_charts(\n",
    "    charts, input_value=\"quote_with_dividends\"\n",
    ")\n",
    "sns.lineplot(comparison_df)"
   ]
  },
  {
   "cell_type": "code",
   "execution_count": null,
   "id": "e6aabca4-72fd-4929-8ed5-0a43ed0f5436",
   "metadata": {},
   "outputs": [],
   "source": [
    "comparison_df = justetf_scraping.compare_charts(\n",
    "    charts, input_value=\"quote_with_reinvested_dividends\"\n",
    ")\n",
    "sns.lineplot(comparison_df)"
   ]
  },
  {
   "cell_type": "code",
   "execution_count": null,
   "id": "d864ded9-bacb-4d71-880f-4a80fcb6b392",
   "metadata": {},
   "outputs": [],
   "source": [
    "comparison_df = justetf_scraping.compare_charts(charts, dates=\"longest\")\n",
    "sns.lineplot(comparison_df)"
   ]
  }
 ],
 "metadata": {
  "kernelspec": {
   "display_name": "justetf-scraping-f94j_nnu-py3.10",
   "language": "python",
   "name": "python3"
  },
  "language_info": {
   "codemirror_mode": {
    "name": "ipython",
    "version": 3
   },
   "file_extension": ".py",
   "mimetype": "text/x-python",
   "name": "python",
   "nbconvert_exporter": "python",
   "pygments_lexer": "ipython3",
   "version": "3.10.14"
  }
 },
 "nbformat": 4,
 "nbformat_minor": 5
}
