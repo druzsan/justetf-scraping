{
 "cells": [
  {
   "cell_type": "markdown",
   "id": "894bd7ec",
   "metadata": {},
   "source": [
    "# Scrape the [justETF Screener](https://www.justetf.com/en/find-etf.html)"
   ]
  },
  {
   "cell_type": "code",
   "execution_count": null,
   "id": "2f064ff0",
   "metadata": {},
   "outputs": [],
   "source": [
    "import matplotlib.pyplot as plt\n",
    "import pandas as pd\n",
    "import seaborn as sns\n",
    "\n",
    "import justetf_scraping"
   ]
  },
  {
   "cell_type": "code",
   "execution_count": null,
   "id": "e46bce02",
   "metadata": {},
   "outputs": [],
   "source": [
    "pd.set_option(\"display.max_columns\", None)\n",
    "pd.set_option(\"display.max_colwidth\", None)"
   ]
  },
  {
   "cell_type": "markdown",
   "id": "b9c6def7",
   "metadata": {},
   "source": [
    "<a id=\"load\"></a>\n",
    "## Load the data"
   ]
  },
  {
   "cell_type": "code",
   "execution_count": null,
   "id": "d1a62112-bad6-40e7-8c54-6d3463958019",
   "metadata": {},
   "outputs": [],
   "source": [
    "etf_df = justetf_scraping.load_overview(enrich=True)"
   ]
  },
  {
   "cell_type": "code",
   "execution_count": null,
   "id": "b404a761",
   "metadata": {},
   "outputs": [],
   "source": [
    "etf_df.shape"
   ]
  },
  {
   "cell_type": "code",
   "execution_count": null,
   "id": "0f79e75b",
   "metadata": {},
   "outputs": [],
   "source": [
    "etf_df.head(3)"
   ]
  },
  {
   "cell_type": "markdown",
   "id": "62c3b1ba",
   "metadata": {},
   "source": [
    "<a id=\"save\"></a>\n",
    "## Save the data"
   ]
  },
  {
   "cell_type": "code",
   "execution_count": null,
   "id": "07050b02",
   "metadata": {},
   "outputs": [],
   "source": [
    "etf_df.to_csv(\"justetf.csv\", index=True)"
   ]
  },
  {
   "cell_type": "markdown",
   "id": "2918934f",
   "metadata": {},
   "source": [
    "<a id=\"visualize\"></a>\n",
    "## Visualize the data"
   ]
  },
  {
   "cell_type": "code",
   "execution_count": null,
   "id": "f611bccd",
   "metadata": {},
   "outputs": [],
   "source": [
    "sns.histplot(etf_df, y=\"strategy\", hue=\"strategy\", discrete=True)"
   ]
  },
  {
   "cell_type": "code",
   "execution_count": null,
   "id": "2126dd4f",
   "metadata": {},
   "outputs": [],
   "source": [
    "sns.histplot(etf_df, y=\"instrument\", hue=\"instrument\", discrete=True)"
   ]
  },
  {
   "cell_type": "code",
   "execution_count": null,
   "id": "1f89cd65",
   "metadata": {},
   "outputs": [],
   "source": [
    "sns.histplot(etf_df, y=\"asset_class\", hue=\"asset_class\", discrete=True)"
   ]
  },
  {
   "cell_type": "code",
   "execution_count": null,
   "id": "2095a999",
   "metadata": {},
   "outputs": [],
   "source": [
    "sns.histplot(etf_df, y=\"region\", hue=\"region\", discrete=True)"
   ]
  },
  {
   "cell_type": "code",
   "execution_count": null,
   "id": "87525f69",
   "metadata": {},
   "outputs": [],
   "source": [
    "sns.histplot(etf_df, y=\"currency\", hue=\"currency\", discrete=True)"
   ]
  },
  {
   "cell_type": "code",
   "execution_count": null,
   "id": "23e4df6d",
   "metadata": {},
   "outputs": [],
   "source": [
    "sns.scatterplot(data=etf_df, x=\"age_in_years\", y=\"size\", alpha=0.5, linewidth=0)"
   ]
  },
  {
   "cell_type": "markdown",
   "id": "da70c3f3",
   "metadata": {},
   "source": [
    "<a id=\"search\"></a>\n",
    "## Search over the data"
   ]
  },
  {
   "cell_type": "markdown",
   "id": "e8ff462d",
   "metadata": {},
   "source": [
    "Compare accumulating MSCI World ETFs older than 2 years with fond size greater than € 50M."
   ]
  },
  {
   "cell_type": "code",
   "execution_count": null,
   "id": "93556c28",
   "metadata": {},
   "outputs": [],
   "source": [
    "msci_world_df = justetf_scraping.load_overview(index=\"MSCI World\")"
   ]
  },
  {
   "cell_type": "code",
   "execution_count": null,
   "id": "e7963c6a",
   "metadata": {},
   "outputs": [],
   "source": [
    "msci_world_df.shape"
   ]
  },
  {
   "cell_type": "code",
   "execution_count": null,
   "id": "d3990ffe",
   "metadata": {},
   "outputs": [],
   "source": [
    "msci_world_df = msci_world_df[\n",
    "    (msci_world_df[\"dividends\"] == \"Accumulating\")\n",
    "    & (msci_world_df[\"age_in_years\"] > 2)\n",
    "    & (msci_world_df[\"size\"] > 50)\n",
    "]"
   ]
  },
  {
   "cell_type": "code",
   "execution_count": null,
   "id": "5f8f83de",
   "metadata": {},
   "outputs": [],
   "source": [
    "msci_world_df.shape"
   ]
  },
  {
   "cell_type": "code",
   "execution_count": null,
   "id": "c546fe16",
   "metadata": {},
   "outputs": [],
   "source": [
    "msci_world_df"
   ]
  },
  {
   "cell_type": "code",
   "execution_count": null,
   "id": "be4ed4e6",
   "metadata": {},
   "outputs": [],
   "source": [
    "COLUMNS_MAPPINGS = {\n",
    "    \"Short-term return\": {\n",
    "        \"last_six_months\": \"Last 5 months\",\n",
    "        \"last_three_months\": \"Last 3 months\",\n",
    "        \"last_month\": \"Last month\",\n",
    "        \"last_week\": \"Last week\",\n",
    "        \"yesterday\": \"Yesterday\",\n",
    "    },\n",
    "    \"Mid-term return\": {\n",
    "        \"last_five_years\": \"last 5 years\",\n",
    "        \"last_three_years\": \"last 3 years\",\n",
    "        \"last_year\": \"last year\",\n",
    "    },\n",
    "    \"Volatility\": {\n",
    "        \"last_five_years_volatility\": \"Last 5 years\",\n",
    "        \"last_three_years_volatility\": \"Last 3 years\",\n",
    "        \"last_year_volatility\": \"Last year\",\n",
    "    },\n",
    "    \"Return/Risk\": {\n",
    "        \"last_five_years_return_per_risk\": \"Last 5 years\",\n",
    "        \"last_three_years_return_per_risk\": \"Last 3 years\",\n",
    "        \"last_year_return_per_risk\": \"Last year\",\n",
    "    },\n",
    "    \"Drawdown\": {\n",
    "        \"last_five_years_max_drawdown\": \"Last 5 years\",\n",
    "        \"last_three_years_max_drawdown\": \"Last 3 years\",\n",
    "        \"last_year_max_drawdown\": \"Last year\",\n",
    "    },\n",
    "}"
   ]
  },
  {
   "cell_type": "code",
   "execution_count": null,
   "id": "2059d974",
   "metadata": {},
   "outputs": [],
   "source": [
    "for title, mapping in COLUMNS_MAPPINGS.items():\n",
    "    df = msci_world_df[mapping.keys()].reset_index().rename(columns=mapping)\n",
    "    plt.figure(dpi=150)\n",
    "    ax = pd.plotting.parallel_coordinates(df, \"isin\", colormap=\"tab10\", alpha=0.75)\n",
    "    _ = ax.set_title(title)"
   ]
  },
  {
   "cell_type": "code",
   "execution_count": null,
   "id": "79e00669-b802-41b8-9296-fd0753da71d7",
   "metadata": {},
   "outputs": [],
   "source": [
    "last_four_years = justetf_scraping.overview.LAST_FOUR_YEARS"
   ]
  },
  {
   "cell_type": "code",
   "execution_count": null,
   "id": "71e2a708",
   "metadata": {},
   "outputs": [],
   "source": [
    "df = msci_world_df[list(reversed(last_four_years))]"
   ]
  },
  {
   "cell_type": "code",
   "execution_count": null,
   "id": "e2015e56",
   "metadata": {},
   "outputs": [],
   "source": [
    "plt.figure(dpi=150)\n",
    "ax = pd.plotting.parallel_coordinates(\n",
    "    df.reset_index(), \"isin\", colormap=\"tab10\", alpha=0.75\n",
    ")\n",
    "_ = ax.set_title(\"Return\")"
   ]
  },
  {
   "cell_type": "code",
   "execution_count": null,
   "id": "651a8e91",
   "metadata": {},
   "outputs": [],
   "source": [
    "ter = (100 - msci_world_df[\"ter\"]) / 100"
   ]
  },
  {
   "cell_type": "code",
   "execution_count": null,
   "id": "8eca25fb",
   "metadata": {},
   "outputs": [],
   "source": [
    "df = ((100 + df) / 100).mul(ter, axis=0)"
   ]
  },
  {
   "cell_type": "code",
   "execution_count": null,
   "id": "8f4bdd0f",
   "metadata": {},
   "outputs": [],
   "source": [
    "cum_df = df.copy()"
   ]
  },
  {
   "cell_type": "code",
   "execution_count": null,
   "id": "68286dbc",
   "metadata": {},
   "outputs": [],
   "source": [
    "df = (df * 100 - 100).reset_index()"
   ]
  },
  {
   "cell_type": "code",
   "execution_count": null,
   "id": "5cf6221f",
   "metadata": {},
   "outputs": [],
   "source": [
    "cum_df[last_four_years[1]] *= cum_df[last_four_years[0]]\n",
    "cum_df[last_four_years[2]] *= cum_df[last_four_years[1]]\n",
    "cum_df[last_four_years[3]] *= cum_df[last_four_years[2]]"
   ]
  },
  {
   "cell_type": "code",
   "execution_count": null,
   "id": "ae29c7fb",
   "metadata": {},
   "outputs": [],
   "source": [
    "cum_df = (cum_df * 100 - 100).reset_index()"
   ]
  },
  {
   "cell_type": "code",
   "execution_count": null,
   "id": "1e52698f",
   "metadata": {},
   "outputs": [],
   "source": [
    "plt.figure(dpi=150)\n",
    "ax = pd.plotting.parallel_coordinates(df, \"isin\", colormap=\"tab10\", alpha=0.75)\n",
    "_ = ax.set_title(\"Return excl. TER\")"
   ]
  },
  {
   "cell_type": "code",
   "execution_count": null,
   "id": "1935023d",
   "metadata": {},
   "outputs": [],
   "source": [
    "plt.figure(dpi=150)\n",
    "ax = pd.plotting.parallel_coordinates(cum_df, \"isin\", colormap=\"tab10\", alpha=0.75)\n",
    "_ = ax.set_title(\"Cumulative return since year excl. TER\")"
   ]
  }
 ],
 "metadata": {
  "kernelspec": {
   "display_name": "justetf-scraping-f94j_nnu-py3.10",
   "language": "python",
   "name": "python3"
  },
  "language_info": {
   "codemirror_mode": {
    "name": "ipython",
    "version": 3
   },
   "file_extension": ".py",
   "mimetype": "text/x-python",
   "name": "python",
   "nbconvert_exporter": "python",
   "pygments_lexer": "ipython3",
   "version": "3.10.14"
  }
 },
 "nbformat": 4,
 "nbformat_minor": 5
}
